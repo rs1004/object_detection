{
 "cells": [
  {
   "cell_type": "markdown",
   "id": "c851c644",
   "metadata": {},
   "source": [
    "## 環境構築"
   ]
  },
  {
   "cell_type": "code",
   "execution_count": null,
   "id": "ea382459",
   "metadata": {},
   "outputs": [],
   "source": [
    "from google.colab import drive\n",
    "drive.mount('/content/drive')"
   ]
  },
  {
   "cell_type": "code",
   "execution_count": null,
   "id": "81d5cfbc",
   "metadata": {},
   "outputs": [],
   "source": [
    "%cd /content/drive/MyDrive/data\n",
    "!unzip voc.zip"
   ]
  },
  {
   "cell_type": "code",
   "execution_count": null,
   "id": "496ad043",
   "metadata": {},
   "outputs": [],
   "source": [
    "!git clone https://github.com/rs1004/object_detection.git ./drive/MyDrive/object_detection\n",
    "%cd /content/drive/MyDrive/object_detection/\n",
    "!ln -s ../data/voc ./data"
   ]
  },
  {
   "cell_type": "code",
   "execution_count": null,
   "id": "9452d993",
   "metadata": {},
   "outputs": [],
   "source": [
    "!pip install -e ."
   ]
  },
  {
   "cell_type": "markdown",
   "id": "0ebeabb5",
   "metadata": {},
   "source": [
    "## 設定"
   ]
  },
  {
   "cell_type": "code",
   "execution_count": null,
   "id": "e5bf1a92",
   "metadata": {},
   "outputs": [],
   "source": [
    "DATA_NAME = 'voc'\n",
    "BATCH_SIZE = 32\n",
    "INPUT_SIZE = 300\n",
    "EPOCHS = 300\n",
    "VERSION = 'ssd_voc'"
   ]
  },
  {
   "cell_type": "markdown",
   "id": "d6401fc2",
   "metadata": {},
   "source": [
    "## 学習"
   ]
  },
  {
   "cell_type": "code",
   "execution_count": null,
   "id": "3784cb0a",
   "metadata": {},
   "outputs": [],
   "source": [
    "!python src/train.py --data_name $DATA_NAME --batch_size $BATCH_SIZE --input_size $INPUT_SIZE --epochs $EPOCHS --version $VERSION"
   ]
  },
  {
   "cell_type": "code",
   "execution_count": null,
   "id": "ec2f1a2c",
   "metadata": {},
   "outputs": [],
   "source": []
  }
 ],
 "metadata": {
  "kernelspec": {
   "display_name": "Python 3",
   "language": "python",
   "name": "python3"
  },
  "language_info": {
   "codemirror_mode": {
    "name": "ipython",
    "version": 3
   },
   "file_extension": ".py",
   "mimetype": "text/x-python",
   "name": "python",
   "nbconvert_exporter": "python",
   "pygments_lexer": "ipython3",
   "version": "3.8.5"
  }
 },
 "nbformat": 4,
 "nbformat_minor": 5
}
