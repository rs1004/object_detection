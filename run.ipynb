{
 "cells": [
  {
   "cell_type": "markdown",
   "id": "c851c644",
   "metadata": {},
   "source": [
    "## 環境構築"
   ]
  },
  {
   "source": [
    "### (option) Colab 上で実行する場合は以下を実行"
   ],
   "cell_type": "markdown",
   "metadata": {}
  },
  {
   "cell_type": "code",
   "execution_count": null,
   "metadata": {},
   "outputs": [],
   "source": [
    "from google.colab import drive\n",
    "drive.mount('/content/drive')"
   ]
  },
  {
   "cell_type": "code",
   "execution_count": null,
   "metadata": {},
   "outputs": [],
   "source": [
    "%cd /content\n",
    "!git clone https://github.com/rs1004/object_detection.git\n",
    "%cd /content/object_detection/data\n",
    "!unzip /content/drive/MyDrive/data/voc.zip\n",
    "%cd .."
   ]
  },
  {
   "cell_type": "code",
   "execution_count": null,
   "metadata": {},
   "outputs": [],
   "source": [
    "!ls -1 ./data/voc/train | wc -l\n",
    "!ls -1 ./data/voc/val | wc -l"
   ]
  },
  {
   "source": [
    "### 共通"
   ],
   "cell_type": "markdown",
   "metadata": {}
  },
  {
   "cell_type": "code",
   "execution_count": null,
   "metadata": {},
   "outputs": [],
   "source": [
    "!pip install -e ."
   ]
  },
  {
   "cell_type": "markdown",
   "id": "0ebeabb5",
   "metadata": {},
   "source": [
    "## 設定"
   ]
  },
  {
   "cell_type": "code",
   "execution_count": 1,
   "id": "e5bf1a92",
   "metadata": {},
   "outputs": [],
   "source": [
    "CONFIG = './configs/ssd/ssd_vgg16bn_voc_aug.py'\n",
    "# CONFIG = './configs/ssd/ssd_vgg16bn_voc_aug_colab.py'"
   ]
  },
  {
   "cell_type": "markdown",
   "id": "d6401fc2",
   "metadata": {},
   "source": [
    "## 学習"
   ]
  },
  {
   "cell_type": "code",
   "execution_count": 4,
   "id": "3784cb0a",
   "metadata": {
    "tags": []
   },
   "outputs": [
    {
     "output_type": "stream",
     "name": "stdout",
     "text": [
      "loading annotations into memory...\n",
      "Done (t=0.15s)\n",
      "creating index...\n",
      "index created!\n",
      "loading annotations into memory...\n",
      "Done (t=0.19s)\n",
      "creating index...\n",
      "index created!\n",
      "<-><-><-><-><-><-><-><-><-><-><-><-><-><-><-><-><-><-><-><->\n",
      "<-><-><-><-><-><-><-> TRAINING START ! <-><-><-><-><-><-><->\n",
      "<-><-><-><-><-><-><-><-><-><-><-><-><-><-><-><-><-><-><-><->\n",
      "[CONFIG]\n",
      "- version    : ssd_voc_no_aug\n",
      "- batch_size : 32\n",
      "- epochs     : 300\n",
      "- out_dir    : ./result\n",
      "\n",
      "[RUNTIME]\n",
      "- CPU\n",
      "\n",
      "[DATASET]\n",
      "- voc\n",
      "\n",
      "[MODEL]\n",
      "- SSD300\n",
      "\n",
      "[MODEL SUMMARY]\n",
      "==========================================================================================\n",
      "Layer (type:depth-idx)                   Output Shape              Param #\n",
      "==========================================================================================\n",
      "├─ModuleDict: 1                          []                        --\n",
      "|    └─ConvBlock: 2-1                    [-1, 64, 300, 300]        1,920\n",
      "|    └─ConvBlock: 2-2                    [-1, 64, 300, 300]        37,056\n",
      "|    └─MaxPool2d: 2-3                    [-1, 64, 150, 150]        --\n",
      "|    └─ConvBlock: 2-4                    [-1, 128, 150, 150]       74,112\n",
      "|    └─ConvBlock: 2-5                    [-1, 128, 150, 150]       147,840\n",
      "|    └─MaxPool2d: 2-6                    [-1, 128, 75, 75]         --\n",
      "|    └─ConvBlock: 2-7                    [-1, 256, 75, 75]         295,680\n",
      "|    └─ConvBlock: 2-8                    [-1, 256, 75, 75]         590,592\n",
      "|    └─ConvBlock: 2-9                    [-1, 256, 75, 75]         590,592\n",
      "|    └─MaxPool2d: 2-10                   [-1, 256, 38, 38]         --\n",
      "|    └─ConvBlock: 2-11                   [-1, 512, 38, 38]         1,181,184\n",
      "|    └─ConvBlock: 2-12                   [-1, 512, 38, 38]         2,360,832\n",
      "|    └─ConvBlock: 2-13                   [-1, 512, 38, 38]         2,360,832\n",
      "├─ModuleDict: 1                          []                        --\n",
      "|    └─Sequential: 2-14                  [-1, 16, 38, 38]          74,256\n",
      "├─ModuleDict: 1                          []                        --\n",
      "|    └─Sequential: 2-15                  [-1, 84, 38, 38]          387,668\n",
      "├─ModuleDict: 1                          []                        --\n",
      "|    └─MaxPool2d: 2-16                   [-1, 512, 19, 19]         --\n",
      "|    └─ConvBlock: 2-17                   [-1, 512, 19, 19]         2,360,832\n",
      "|    └─ConvBlock: 2-18                   [-1, 512, 19, 19]         2,360,832\n",
      "|    └─ConvBlock: 2-19                   [-1, 512, 19, 19]         2,360,832\n",
      "|    └─MaxPool2d: 2-20                   [-1, 512, 19, 19]         --\n",
      "├─ModuleDict: 1                          []                        --\n",
      "|    └─ConvBlock: 2-21                   [-1, 1024, 19, 19]        4,721,664\n",
      "|    └─ConvBlock: 2-22                   [-1, 1024, 19, 19]        1,051,648\n",
      "├─ModuleDict: 1                          []                        --\n",
      "|    └─Conv2d: 2-23                      [-1, 24, 19, 19]          221,208\n",
      "├─ModuleDict: 1                          []                        --\n",
      "|    └─Conv2d: 2-24                      [-1, 126, 19, 19]         1,161,342\n",
      "├─ModuleDict: 1                          []                        --\n",
      "|    └─ConvBlock: 2-25                   [-1, 256, 19, 19]         262,912\n",
      "|    └─ConvBlock: 2-26                   [-1, 512, 10, 10]         1,181,184\n",
      "├─ModuleDict: 1                          []                        --\n",
      "|    └─Conv2d: 2-27                      [-1, 24, 10, 10]          110,616\n",
      "├─ModuleDict: 1                          []                        --\n",
      "|    └─Conv2d: 2-28                      [-1, 126, 10, 10]         580,734\n",
      "├─ModuleDict: 1                          []                        --\n",
      "|    └─ConvBlock: 2-29                   [-1, 128, 10, 10]         65,920\n",
      "|    └─ConvBlock: 2-30                   [-1, 256, 5, 5]           295,680\n",
      "├─ModuleDict: 1                          []                        --\n",
      "|    └─Conv2d: 2-31                      [-1, 24, 5, 5]            55,320\n",
      "├─ModuleDict: 1                          []                        --\n",
      "|    └─Conv2d: 2-32                      [-1, 126, 5, 5]           290,430\n",
      "├─ModuleDict: 1                          []                        --\n",
      "|    └─ConvBlock: 2-33                   [-1, 128, 5, 5]           33,152\n",
      "|    └─ConvBlock: 2-34                   [-1, 256, 3, 3]           295,680\n",
      "├─ModuleDict: 1                          []                        --\n",
      "|    └─Conv2d: 2-35                      [-1, 16, 3, 3]            36,880\n",
      "├─ModuleDict: 1                          []                        --\n",
      "|    └─Conv2d: 2-36                      [-1, 84, 3, 3]            193,620\n",
      "├─ModuleDict: 1                          []                        --\n",
      "|    └─ConvBlock: 2-37                   [-1, 128, 3, 3]           33,152\n",
      "|    └─ConvBlock: 2-38                   [-1, 256, 1, 1]           295,680\n",
      "├─ModuleDict: 1                          []                        --\n",
      "|    └─Conv2d: 2-39                      [-1, 16, 1, 1]            36,880\n",
      "├─ModuleDict: 1                          []                        --\n",
      "|    └─Conv2d: 2-40                      [-1, 84, 1, 1]            193,620\n",
      "==========================================================================================\n",
      "Total params: 26,302,382\n",
      "Trainable params: 26,302,382\n",
      "Non-trainable params: 0\n",
      "Total mult-adds (G): 31.40\n",
      "==========================================================================================\n",
      "Input size (MB): 1.03\n",
      "Forward/backward pass size (MB): 398.71\n",
      "Params size (MB): 100.34\n",
      "Estimated Total Size (MB): 500.08\n",
      "==========================================================================================\n",
      "\n",
      "[OPTIMIZER]\n",
      "- SGD\n",
      "- hyper params : {'lr': 0.001, 'momentum': 0.9, 'dampening': 0, 'weight_decay': 0.0005, 'nesterov': False}\n",
      "\n",
      "[SCHEDULER]\n",
      "- MultiStepLR\n",
      "- milestones: lr = 1.0e-02 -> 1.0e-03 (150 epc~) -> 1.0e-04 (225 epc~)\n",
      "\n",
      "<-><-><-><-><-><-><-><-><-><-><-><-><-><-><-><-><-><-><-><->\n",
      "\n",
      "[Epoch   1]:   0%|                                      | 0/518 [00:00<?, ?it/s]"
     ]
    }
   ],
   "source": [
    "!python src/train.py $CONFIG"
   ]
  },
  {
   "source": [
    "## 予測・評価"
   ],
   "cell_type": "markdown",
   "metadata": {}
  },
  {
   "cell_type": "code",
   "execution_count": 3,
   "metadata": {},
   "outputs": [
    {
     "output_type": "stream",
     "name": "stdout",
     "text": [
      "loading annotations into memory...\n",
      "Done (t=0.09s)\n",
      "creating index...\n",
      "index created!\n",
      "<-><-><-><-><-><-><-><-><-><-><-><-><-><-><-><-><-><-><-><->\n",
      "<-><-><-><-><-><-><->   TEST START !   <-><-><-><-><-><-><->\n",
      "<-><-><-><-><-><-><-><-><-><-><-><-><-><-><-><-><-><-><-><->\n",
      "[CONFIG]\n",
      "- config     : ./configs/ssd/ssd_vgg16bn_voc_aug.py\n",
      "- batch_size : 2\n",
      "- out_dir    : /home/sato/work/object_detection/result/ssd_vgg16bn_voc_aug\n",
      "\n",
      "[RUNTIME]\n",
      "- CPU\n",
      "\n",
      "[DATASET]\n",
      "- data_dir   : /home/sato/work/object_detection/data/voc\n",
      "\n",
      "[MODEL]\n",
      "- ssd\n",
      "\n",
      "[WEIGHTS]\n",
      "- None\n",
      "\n",
      "<-><-><-><-><-><-><-><-><-><-><-><-><-><-><-><-><-><-><-><->\n",
      "\n",
      "  0%|                                                  | 0/4167 [00:07<?, ?it/s]\n",
      "loading annotations into memory...\n",
      "Done (t=0.17s)\n",
      "creating index...\n",
      "index created!\n",
      "Loading and preparing results...\n",
      "DONE (t=0.16s)\n",
      "creating index...\n",
      "index created!\n",
      "Running per image evaluation...\n",
      "Evaluate annotation type *bbox*\n",
      "DONE (t=3.25s).\n",
      "Accumulating evaluation results...\n",
      "DONE (t=0.57s).\n",
      " Average Precision  (AP) @[ IoU=0.50:0.95 | area=   all | maxDets=100 ] = 0.000\n",
      " Average Precision  (AP) @[ IoU=0.50      | area=   all | maxDets=100 ] = 0.000\n",
      " Average Precision  (AP) @[ IoU=0.75      | area=   all | maxDets=100 ] = 0.000\n",
      " Average Precision  (AP) @[ IoU=0.50:0.95 | area= small | maxDets=100 ] = 0.000\n",
      " Average Precision  (AP) @[ IoU=0.50:0.95 | area=medium | maxDets=100 ] = 0.000\n",
      " Average Precision  (AP) @[ IoU=0.50:0.95 | area= large | maxDets=100 ] = 0.000\n",
      " Average Recall     (AR) @[ IoU=0.50:0.95 | area=   all | maxDets=  1 ] = 0.000\n",
      " Average Recall     (AR) @[ IoU=0.50:0.95 | area=   all | maxDets= 10 ] = 0.000\n",
      " Average Recall     (AR) @[ IoU=0.50:0.95 | area=   all | maxDets=100 ] = 0.000\n",
      " Average Recall     (AR) @[ IoU=0.50:0.95 | area= small | maxDets=100 ] = 0.000\n",
      " Average Recall     (AR) @[ IoU=0.50:0.95 | area=medium | maxDets=100 ] = 0.000\n",
      " Average Recall     (AR) @[ IoU=0.50:0.95 | area= large | maxDets=100 ] = 0.000\n"
     ]
    }
   ],
   "source": [
    "!python src/test.py $CONFIG"
   ]
  },
  {
   "cell_type": "code",
   "execution_count": null,
   "metadata": {},
   "outputs": [],
   "source": []
  }
 ],
 "metadata": {
  "kernelspec": {
   "name": "python385jvsc74a57bd0d9ac7d71a630d7a82feb842c090ea7ffe0c62a7b875cdae44e0511b0441aaac8",
   "display_name": "Python 3.8.5 64-bit ('DEV')"
  },
  "language_info": {
   "codemirror_mode": {
    "name": "ipython",
    "version": 3
   },
   "file_extension": ".py",
   "mimetype": "text/x-python",
   "name": "python",
   "nbconvert_exporter": "python",
   "pygments_lexer": "ipython3",
   "version": "3.8.5-final"
  }
 },
 "nbformat": 4,
 "nbformat_minor": 5
}