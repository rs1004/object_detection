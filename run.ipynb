{
 "cells": [
  {
   "cell_type": "markdown",
   "id": "c851c644",
   "metadata": {},
   "source": [
    "## 環境構築"
   ]
  },
  {
   "cell_type": "markdown",
   "id": "c4280a5c",
   "metadata": {},
   "source": [
    "### (option) Colab 上で実行する場合は以下を実行"
   ]
  },
  {
   "cell_type": "code",
   "execution_count": null,
   "id": "53f462d5",
   "metadata": {},
   "outputs": [],
   "source": [
    "import torch\n",
    "\n",
    "torch.cuda.get_device_name(0)"
   ]
  },
  {
   "cell_type": "code",
   "execution_count": null,
   "id": "251ec28d",
   "metadata": {},
   "outputs": [],
   "source": [
    "from google.colab import drive\n",
    "drive.mount('/content/drive')"
   ]
  },
  {
   "cell_type": "code",
   "execution_count": null,
   "id": "7dc41a9d",
   "metadata": {},
   "outputs": [],
   "source": [
    "%cd /content\n",
    "!git clone https://github.com/rs1004/object_detection.git\n",
    "%cd /content/object_detection/data\n",
    "!unzip -q /content/drive/MyDrive/data/voc07+12.zip\n",
    "%cd .."
   ]
  },
  {
   "cell_type": "code",
   "execution_count": null,
   "id": "81122677",
   "metadata": {},
   "outputs": [],
   "source": [
    "!ls -1 ./data/voc07+12/train | wc -l\n",
    "!ls -1 ./data/voc07+12/val | wc -l"
   ]
  },
  {
   "cell_type": "markdown",
   "id": "e6eafb5a",
   "metadata": {},
   "source": [
    "### 共通"
   ]
  },
  {
   "cell_type": "code",
   "execution_count": null,
   "id": "792136e2",
   "metadata": {},
   "outputs": [],
   "source": [
    "!pip install -e ."
   ]
  },
  {
   "cell_type": "markdown",
   "id": "0ebeabb5",
   "metadata": {},
   "source": [
    "## 設定"
   ]
  },
  {
   "cell_type": "code",
   "execution_count": null,
   "id": "e5bf1a92",
   "metadata": {},
   "outputs": [],
   "source": [
    "CONFIG = './configs/fcos/fcos_512_r50_voc_aug.py'"
   ]
  },
  {
   "cell_type": "markdown",
   "id": "d6401fc2",
   "metadata": {},
   "source": [
    "## 学習"
   ]
  },
  {
   "cell_type": "code",
   "execution_count": null,
   "id": "3784cb0a",
   "metadata": {
    "tags": []
   },
   "outputs": [],
   "source": [
    "!python src/train.py $CONFIG"
   ]
  },
  {
   "cell_type": "markdown",
   "id": "cf20944f",
   "metadata": {},
   "source": [
    "## 予測・評価"
   ]
  },
  {
   "cell_type": "code",
   "execution_count": null,
   "id": "f7c1493c",
   "metadata": {},
   "outputs": [],
   "source": [
    "!python src/test.py $CONFIG"
   ]
  },
  {
   "cell_type": "code",
   "execution_count": null,
   "id": "b1013326",
   "metadata": {},
   "outputs": [],
   "source": []
  }
 ],
 "metadata": {
  "kernelspec": {
   "display_name": "Python 3",
   "language": "python",
   "name": "python3"
  },
  "language_info": {
   "codemirror_mode": {
    "name": "ipython",
    "version": 3
   },
   "file_extension": ".py",
   "mimetype": "text/x-python",
   "name": "python",
   "nbconvert_exporter": "python",
   "pygments_lexer": "ipython3",
   "version": "3.8.5"
  }
 },
 "nbformat": 4,
 "nbformat_minor": 5
}